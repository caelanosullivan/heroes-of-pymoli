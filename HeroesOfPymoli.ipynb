{
 "cells": [
  {
   "cell_type": "code",
   "execution_count": 788,
   "metadata": {
    "collapsed": true
   },
   "outputs": [],
   "source": [
    "# Import dependencies\n",
    "\n",
    "import os\n",
    "import json\n",
    "import numpy as np\n",
    "import pandas as pd"
   ]
  },
  {
   "cell_type": "code",
   "execution_count": 789,
   "metadata": {
    "collapsed": true
   },
   "outputs": [],
   "source": [
    "# Create references to the JSON files\n",
    "\n",
    "purchase_json1 = \"purchase_data.json\"\n",
    "purchase_json2 = \"purchase_data2.json\""
   ]
  },
  {
   "cell_type": "code",
   "execution_count": 790,
   "metadata": {},
   "outputs": [
    {
     "data": {
      "text/html": [
       "<div>\n",
       "<style>\n",
       "    .dataframe thead tr:only-child th {\n",
       "        text-align: right;\n",
       "    }\n",
       "\n",
       "    .dataframe thead th {\n",
       "        text-align: left;\n",
       "    }\n",
       "\n",
       "    .dataframe tbody tr th {\n",
       "        vertical-align: top;\n",
       "    }\n",
       "</style>\n",
       "<table border=\"1\" class=\"dataframe\">\n",
       "  <thead>\n",
       "    <tr style=\"text-align: right;\">\n",
       "      <th></th>\n",
       "      <th>Age</th>\n",
       "      <th>Gender</th>\n",
       "      <th>Item ID</th>\n",
       "      <th>Item Name</th>\n",
       "      <th>Price</th>\n",
       "      <th>SN</th>\n",
       "    </tr>\n",
       "  </thead>\n",
       "  <tbody>\n",
       "    <tr>\n",
       "      <th>0</th>\n",
       "      <td>38</td>\n",
       "      <td>Male</td>\n",
       "      <td>165</td>\n",
       "      <td>Bone Crushing Silver Skewer</td>\n",
       "      <td>3.37</td>\n",
       "      <td>Aelalis34</td>\n",
       "    </tr>\n",
       "    <tr>\n",
       "      <th>1</th>\n",
       "      <td>21</td>\n",
       "      <td>Male</td>\n",
       "      <td>119</td>\n",
       "      <td>Stormbringer, Dark Blade of Ending Misery</td>\n",
       "      <td>2.32</td>\n",
       "      <td>Eolo46</td>\n",
       "    </tr>\n",
       "    <tr>\n",
       "      <th>2</th>\n",
       "      <td>34</td>\n",
       "      <td>Male</td>\n",
       "      <td>174</td>\n",
       "      <td>Primitive Blade</td>\n",
       "      <td>2.46</td>\n",
       "      <td>Assastnya25</td>\n",
       "    </tr>\n",
       "    <tr>\n",
       "      <th>3</th>\n",
       "      <td>21</td>\n",
       "      <td>Male</td>\n",
       "      <td>92</td>\n",
       "      <td>Final Critic</td>\n",
       "      <td>1.36</td>\n",
       "      <td>Pheusrical25</td>\n",
       "    </tr>\n",
       "    <tr>\n",
       "      <th>4</th>\n",
       "      <td>23</td>\n",
       "      <td>Male</td>\n",
       "      <td>63</td>\n",
       "      <td>Stormfury Mace</td>\n",
       "      <td>1.27</td>\n",
       "      <td>Aela59</td>\n",
       "    </tr>\n",
       "  </tbody>\n",
       "</table>\n",
       "</div>"
      ],
      "text/plain": [
       "   Age Gender  Item ID                                  Item Name  Price  \\\n",
       "0   38   Male      165                Bone Crushing Silver Skewer   3.37   \n",
       "1   21   Male      119  Stormbringer, Dark Blade of Ending Misery   2.32   \n",
       "2   34   Male      174                            Primitive Blade   2.46   \n",
       "3   21   Male       92                               Final Critic   1.36   \n",
       "4   23   Male       63                             Stormfury Mace   1.27   \n",
       "\n",
       "             SN  \n",
       "0     Aelalis34  \n",
       "1        Eolo46  \n",
       "2   Assastnya25  \n",
       "3  Pheusrical25  \n",
       "4        Aela59  "
      ]
     },
     "execution_count": 790,
     "metadata": {},
     "output_type": "execute_result"
    }
   ],
   "source": [
    "# Read with Pandas\n",
    "\n",
    "purchase1_df = pd.read_json(purchase_json1)\n",
    "purchase2_df = pd.read_json(purchase_json2)\n",
    "\n",
    "# Same columns, so concatenate to tack DF1 onto DF2\n",
    "\n",
    "frames = [purchase1_df, purchase2_df]\n",
    "combined_df = pd.concat(frames)\n",
    "combined_df.head()"
   ]
  },
  {
   "cell_type": "markdown",
   "metadata": {},
   "source": [
    "# Player Count"
   ]
  },
  {
   "cell_type": "code",
   "execution_count": 791,
   "metadata": {},
   "outputs": [
    {
     "data": {
      "text/html": [
       "<div>\n",
       "<style>\n",
       "    .dataframe thead tr:only-child th {\n",
       "        text-align: right;\n",
       "    }\n",
       "\n",
       "    .dataframe thead th {\n",
       "        text-align: left;\n",
       "    }\n",
       "\n",
       "    .dataframe tbody tr th {\n",
       "        vertical-align: top;\n",
       "    }\n",
       "</style>\n",
       "<table border=\"1\" class=\"dataframe\">\n",
       "  <thead>\n",
       "    <tr style=\"text-align: right;\">\n",
       "      <th></th>\n",
       "      <th>Player Count</th>\n",
       "    </tr>\n",
       "  </thead>\n",
       "  <tbody>\n",
       "    <tr>\n",
       "      <th>0</th>\n",
       "      <td>612</td>\n",
       "    </tr>\n",
       "  </tbody>\n",
       "</table>\n",
       "</div>"
      ],
      "text/plain": [
       "   Player Count\n",
       "0           612"
      ]
     },
     "execution_count": 791,
     "metadata": {},
     "output_type": "execute_result"
    }
   ],
   "source": [
    "# Count number of uniques in SN column for number of player accounts\n",
    "\n",
    "player_count= len(combined_df[\"SN\"].unique())\n",
    "\n",
    "player_count_df = pd.DataFrame({\"Player Count\":[player_count]})\n",
    "player_count_df"
   ]
  },
  {
   "cell_type": "markdown",
   "metadata": {},
   "source": [
    "# Purchasing Analysis (Total)"
   ]
  },
  {
   "cell_type": "code",
   "execution_count": 792,
   "metadata": {
    "scrolled": true
   },
   "outputs": [
    {
     "data": {
      "text/html": [
       "<div>\n",
       "<style>\n",
       "    .dataframe thead tr:only-child th {\n",
       "        text-align: right;\n",
       "    }\n",
       "\n",
       "    .dataframe thead th {\n",
       "        text-align: left;\n",
       "    }\n",
       "\n",
       "    .dataframe tbody tr th {\n",
       "        vertical-align: top;\n",
       "    }\n",
       "</style>\n",
       "<table border=\"1\" class=\"dataframe\">\n",
       "  <thead>\n",
       "    <tr style=\"text-align: right;\">\n",
       "      <th></th>\n",
       "      <th>Number of Unique Items</th>\n",
       "      <th>Average Price</th>\n",
       "      <th>Number of Purchases</th>\n",
       "      <th>Total Revenue</th>\n",
       "    </tr>\n",
       "  </thead>\n",
       "  <tbody>\n",
       "    <tr>\n",
       "      <th>0</th>\n",
       "      <td>180</td>\n",
       "      <td>$2.93</td>\n",
       "      <td>858</td>\n",
       "      <td>$2,514.43</td>\n",
       "    </tr>\n",
       "  </tbody>\n",
       "</table>\n",
       "</div>"
      ],
      "text/plain": [
       "   Number of Unique Items Average Price  Number of Purchases Total Revenue\n",
       "0                     180         $2.93                  858     $2,514.43"
      ]
     },
     "execution_count": 792,
     "metadata": {},
     "output_type": "execute_result"
    }
   ],
   "source": [
    "# Number of Unique Items\n",
    "item_count = combined_df[\"Item Name\"].nunique()\n",
    "\n",
    "# Sum 'Price' column for Revenue\n",
    "revenue = combined_df[\"Price\"].sum()\n",
    "revenue_formatted = '${:,.2f}'.format(revenue) \n",
    "\n",
    "# Count rows for number of purchases\n",
    "rows = len(combined_df.index)\n",
    "\n",
    "# Calculate average price by dividing price total over rows\n",
    "average_price = revenue/rows\n",
    "average_price_formatted ='${:,.2f}'.format(average_price)\n",
    "\n",
    "\n",
    "# Create summary dictionary and populate dataframe\n",
    "purchasing_analysis_df = pd.DataFrame({\"Total Revenue\":[revenue_formatted],\n",
    "                                       \"Number of Purchases\":[rows],\n",
    "                                       \"Average Price\":[average_price_formatted],\n",
    "                                       \"Number of Unique Items\":[item_count]})\n",
    "\n",
    "\n",
    "# Configure dataframe column order and display\n",
    "purchasing_analysis_df = purchasing_analysis_df[['Number of Unique Items', \n",
    "                                                 'Average Price', \n",
    "                                                 'Number of Purchases', \n",
    "                                                 'Total Revenue' ]]\n",
    "purchasing_analysis_df"
   ]
  },
  {
   "cell_type": "markdown",
   "metadata": {},
   "source": [
    "# Gender Demographics"
   ]
  },
  {
   "cell_type": "code",
   "execution_count": 793,
   "metadata": {
    "scrolled": true
   },
   "outputs": [],
   "source": [
    "# Count number of unique gender members based on screenname\n",
    "\n",
    "gender_nun = combined_df.groupby('Gender')['SN'].nunique()\n",
    "\n",
    "count_male = gender_nun['Male']\n",
    "count_female = gender_nun['Female']\n",
    "count_other = gender_nun['Other / Non-Disclosed']\n",
    "\n",
    "percent_male = '{0:.2f}'.format(((count_male/player_count) * 100))\n",
    "percent_female = '{0:.2f}'.format(((count_female/player_count) * 100))\n",
    "percent_other = '{0:.2f}'.format(((count_other/player_count) * 100))"
   ]
  },
  {
   "cell_type": "code",
   "execution_count": 794,
   "metadata": {},
   "outputs": [
    {
     "data": {
      "text/html": [
       "<div>\n",
       "<style>\n",
       "    .dataframe thead tr:only-child th {\n",
       "        text-align: right;\n",
       "    }\n",
       "\n",
       "    .dataframe thead th {\n",
       "        text-align: left;\n",
       "    }\n",
       "\n",
       "    .dataframe tbody tr th {\n",
       "        vertical-align: top;\n",
       "    }\n",
       "</style>\n",
       "<table border=\"1\" class=\"dataframe\">\n",
       "  <thead>\n",
       "    <tr style=\"text-align: right;\">\n",
       "      <th></th>\n",
       "      <th>Percentage of Players</th>\n",
       "      <th>Total Count</th>\n",
       "    </tr>\n",
       "    <tr>\n",
       "      <th>Gender</th>\n",
       "      <th></th>\n",
       "      <th></th>\n",
       "    </tr>\n",
       "  </thead>\n",
       "  <tbody>\n",
       "    <tr>\n",
       "      <th>Male</th>\n",
       "      <td>81.37</td>\n",
       "      <td>498</td>\n",
       "    </tr>\n",
       "    <tr>\n",
       "      <th>Female</th>\n",
       "      <td>18.30</td>\n",
       "      <td>112</td>\n",
       "    </tr>\n",
       "    <tr>\n",
       "      <th>Other / Non-Disclosed</th>\n",
       "      <td>1.47</td>\n",
       "      <td>9</td>\n",
       "    </tr>\n",
       "  </tbody>\n",
       "</table>\n",
       "</div>"
      ],
      "text/plain": [
       "                      Percentage of Players  Total Count\n",
       "Gender                                                  \n",
       "Male                                  81.37          498\n",
       "Female                                18.30          112\n",
       "Other / Non-Disclosed                  1.47            9"
      ]
     },
     "execution_count": 794,
     "metadata": {},
     "output_type": "execute_result"
    }
   ],
   "source": [
    "# Create summary dictionary and populate dataframe\n",
    "\n",
    "gender_dict = {\"Gender\": ['Male', 'Female', 'Other / Non-Disclosed'],\n",
    "               \"Percentage of Players\": [percent_male, percent_female, percent_other],\n",
    "               \"Total Count\": [count_male, count_female, count_other]\n",
    "              }\n",
    "\n",
    "gender_df = pd.DataFrame(gender_dict)\n",
    "\n",
    "# Set row index to be Gender and display\n",
    "\n",
    "gender_df = gender_df.set_index(\"Gender\")\n",
    "gender_df"
   ]
  },
  {
   "cell_type": "markdown",
   "metadata": {},
   "source": [
    "# Purchasing Analysis (Gender)"
   ]
  },
  {
   "cell_type": "code",
   "execution_count": 795,
   "metadata": {},
   "outputs": [],
   "source": [
    "# Group purchases by Gender in new dataframe\n",
    "\n",
    "gender_purchases = combined_df.groupby(\"Gender\")"
   ]
  },
  {
   "cell_type": "code",
   "execution_count": 796,
   "metadata": {},
   "outputs": [],
   "source": [
    "# Count purchases by Gender\n",
    "\n",
    "gender_purchases_counts = gender_purchases[\"Gender\"].count()"
   ]
  },
  {
   "cell_type": "code",
   "execution_count": 797,
   "metadata": {},
   "outputs": [],
   "source": [
    "# Find Average Purchase Price by Gender\n",
    "\n",
    "average_gender_purchase = gender_purchases[\"Price\"].mean()"
   ]
  },
  {
   "cell_type": "code",
   "execution_count": 798,
   "metadata": {},
   "outputs": [],
   "source": [
    "# Find Total Purchase Value (Revenue) by Gender\n",
    "\n",
    "total_gender_purchases = gender_purchases[\"Price\"].sum()"
   ]
  },
  {
   "cell_type": "code",
   "execution_count": 799,
   "metadata": {},
   "outputs": [],
   "source": [
    "# Find Normalized Totals (Total Purchase Value / Actual Gender Counts)\n",
    "\n",
    "actual_player_counts_by_gender = [count_female, count_male, count_other]\n",
    "\n",
    "normalized_gender_purchases = [t/g for t,g in zip(total_gender_purchases, actual_player_counts_by_gender)]"
   ]
  },
  {
   "cell_type": "code",
   "execution_count": 800,
   "metadata": {},
   "outputs": [],
   "source": [
    "# Format appropriate calculated lists to currency\n",
    "\n",
    "average_gender_purchase = [\"$%.2f\" % member for member in average_gender_purchase]\n",
    "total_gender_purchases = [\"$%.2f\" % member for member in total_gender_purchases]\n",
    "normalized_gender_purchases = [\"$%.2f\" % member for member in normalized_gender_purchases]"
   ]
  },
  {
   "cell_type": "code",
   "execution_count": 801,
   "metadata": {},
   "outputs": [
    {
     "data": {
      "text/html": [
       "<div>\n",
       "<style>\n",
       "    .dataframe thead tr:only-child th {\n",
       "        text-align: right;\n",
       "    }\n",
       "\n",
       "    .dataframe thead th {\n",
       "        text-align: left;\n",
       "    }\n",
       "\n",
       "    .dataframe tbody tr th {\n",
       "        vertical-align: top;\n",
       "    }\n",
       "</style>\n",
       "<table border=\"1\" class=\"dataframe\">\n",
       "  <thead>\n",
       "    <tr style=\"text-align: right;\">\n",
       "      <th></th>\n",
       "      <th>Purchase Count</th>\n",
       "      <th>Average Purchase Price</th>\n",
       "      <th>Total Purchase Value</th>\n",
       "      <th>Normalized Totals</th>\n",
       "    </tr>\n",
       "    <tr>\n",
       "      <th>Gender</th>\n",
       "      <th></th>\n",
       "      <th></th>\n",
       "      <th></th>\n",
       "      <th></th>\n",
       "    </tr>\n",
       "  </thead>\n",
       "  <tbody>\n",
       "    <tr>\n",
       "      <th>Male</th>\n",
       "      <td>149</td>\n",
       "      <td>$2.85</td>\n",
       "      <td>$424.29</td>\n",
       "      <td>$3.79</td>\n",
       "    </tr>\n",
       "    <tr>\n",
       "      <th>Female</th>\n",
       "      <td>697</td>\n",
       "      <td>$2.94</td>\n",
       "      <td>$2052.28</td>\n",
       "      <td>$4.12</td>\n",
       "    </tr>\n",
       "    <tr>\n",
       "      <th>Other / Non-Disclosed</th>\n",
       "      <td>12</td>\n",
       "      <td>$3.15</td>\n",
       "      <td>$37.86</td>\n",
       "      <td>$4.21</td>\n",
       "    </tr>\n",
       "  </tbody>\n",
       "</table>\n",
       "</div>"
      ],
      "text/plain": [
       "                       Purchase Count Average Purchase Price  \\\n",
       "Gender                                                         \n",
       "Male                              149                  $2.85   \n",
       "Female                            697                  $2.94   \n",
       "Other / Non-Disclosed              12                  $3.15   \n",
       "\n",
       "                      Total Purchase Value Normalized Totals  \n",
       "Gender                                                        \n",
       "Male                               $424.29             $3.79  \n",
       "Female                            $2052.28             $4.12  \n",
       "Other / Non-Disclosed               $37.86             $4.21  "
      ]
     },
     "execution_count": 801,
     "metadata": {},
     "output_type": "execute_result"
    }
   ],
   "source": [
    "# Create summary dictionary and populate dataframe\n",
    "\n",
    "gender_purchases_dict = {\"Gender\": ['Male', 'Female', 'Other / Non-Disclosed'],\n",
    "                         \"Purchase Count\": gender_purchases_counts,\n",
    "                         \"Average Purchase Price\": average_gender_purchase,\n",
    "                         \"Total Purchase Value\": total_gender_purchases,\n",
    "                         \"Normalized Totals\": normalized_gender_purchases\n",
    "                        }\n",
    "\n",
    "gender_purchases_df = pd.DataFrame(gender_purchases_dict)\n",
    "\n",
    "# Set row index to Gender\n",
    "gender_purchases_df = gender_purchases_df.set_index(\"Gender\")\n",
    "\n",
    "\n",
    "# Configure dataframe column order and display\n",
    "gender_purchases_df = gender_purchases_df[[\"Purchase Count\",\n",
    "                                          \"Average Purchase Price\",\n",
    "                                          \"Total Purchase Value\",\n",
    "                                          \"Normalized Totals\"]]\n",
    "\n",
    "gender_purchases_df"
   ]
  },
  {
   "cell_type": "markdown",
   "metadata": {},
   "source": [
    "# Age Demographics"
   ]
  },
  {
   "cell_type": "code",
   "execution_count": 802,
   "metadata": {},
   "outputs": [],
   "source": [
    "# Create age bins and corresponding labels\n",
    "\n",
    "age_bins = [0, 9, 14, 19, 24, 29, 34, 39, 150]\n",
    "age_labels = [\"<10\", \"10-14\", \"15-19\", \"20-24\", \"25-29\", \"30-34\", \"35-39\", \"40+\"]\n",
    "\n",
    "\n",
    "# Bin the Age column\n",
    "\n",
    "combined_df[\"Age Group\"] = pd.cut(combined_df[\"Age\"], age_bins, labels = age_labels)"
   ]
  },
  {
   "cell_type": "code",
   "execution_count": 803,
   "metadata": {},
   "outputs": [],
   "source": [
    "# Create new dataframe grouped by Age Group\n",
    "\n",
    "grouped_age_df = combined_df.groupby(\"Age Group\")"
   ]
  },
  {
   "cell_type": "code",
   "execution_count": 804,
   "metadata": {},
   "outputs": [],
   "source": [
    "# Count unique ages based on SN\n",
    "\n",
    "age_nun = grouped_age_df[\"SN\"].nunique()"
   ]
  },
  {
   "cell_type": "code",
   "execution_count": 805,
   "metadata": {},
   "outputs": [],
   "source": [
    "# Calculate percentage of players represented by each age group and store in a list\n",
    "\n",
    "age_bin_percentages = [((member/player_count)*100) for member in age_nun]\n",
    "age_bin_percentages = ['%.2f' % member for member in age_bin_percentages ]"
   ]
  },
  {
   "cell_type": "code",
   "execution_count": 806,
   "metadata": {
    "scrolled": true
   },
   "outputs": [],
   "source": [
    "# Count number of unique players represented by age group\n",
    "\n",
    "age_bin_counts = [age_nun[member] for member in age_labels]"
   ]
  },
  {
   "cell_type": "code",
   "execution_count": 807,
   "metadata": {},
   "outputs": [
    {
     "data": {
      "text/html": [
       "<div>\n",
       "<style>\n",
       "    .dataframe thead tr:only-child th {\n",
       "        text-align: right;\n",
       "    }\n",
       "\n",
       "    .dataframe thead th {\n",
       "        text-align: left;\n",
       "    }\n",
       "\n",
       "    .dataframe tbody tr th {\n",
       "        vertical-align: top;\n",
       "    }\n",
       "</style>\n",
       "<table border=\"1\" class=\"dataframe\">\n",
       "  <thead>\n",
       "    <tr style=\"text-align: right;\">\n",
       "      <th></th>\n",
       "      <th>Percentage of Players</th>\n",
       "      <th>Total Count</th>\n",
       "    </tr>\n",
       "    <tr>\n",
       "      <th>Ages</th>\n",
       "      <th></th>\n",
       "      <th></th>\n",
       "    </tr>\n",
       "  </thead>\n",
       "  <tbody>\n",
       "    <tr>\n",
       "      <th>&lt;10</th>\n",
       "      <td>3.92</td>\n",
       "      <td>24</td>\n",
       "    </tr>\n",
       "    <tr>\n",
       "      <th>10-14</th>\n",
       "      <td>4.08</td>\n",
       "      <td>25</td>\n",
       "    </tr>\n",
       "    <tr>\n",
       "      <th>15-19</th>\n",
       "      <td>17.97</td>\n",
       "      <td>110</td>\n",
       "    </tr>\n",
       "    <tr>\n",
       "      <th>20-24</th>\n",
       "      <td>46.24</td>\n",
       "      <td>283</td>\n",
       "    </tr>\n",
       "    <tr>\n",
       "      <th>25-29</th>\n",
       "      <td>15.36</td>\n",
       "      <td>94</td>\n",
       "    </tr>\n",
       "    <tr>\n",
       "      <th>30-34</th>\n",
       "      <td>8.66</td>\n",
       "      <td>53</td>\n",
       "    </tr>\n",
       "    <tr>\n",
       "      <th>35-39</th>\n",
       "      <td>5.39</td>\n",
       "      <td>33</td>\n",
       "    </tr>\n",
       "    <tr>\n",
       "      <th>40+</th>\n",
       "      <td>1.96</td>\n",
       "      <td>12</td>\n",
       "    </tr>\n",
       "  </tbody>\n",
       "</table>\n",
       "</div>"
      ],
      "text/plain": [
       "      Percentage of Players  Total Count\n",
       "Ages                                    \n",
       "<10                    3.92           24\n",
       "10-14                  4.08           25\n",
       "15-19                 17.97          110\n",
       "20-24                 46.24          283\n",
       "25-29                 15.36           94\n",
       "30-34                  8.66           53\n",
       "35-39                  5.39           33\n",
       "40+                    1.96           12"
      ]
     },
     "execution_count": 807,
     "metadata": {},
     "output_type": "execute_result"
    }
   ],
   "source": [
    "# Create summary dictionary and populate dataframe\n",
    "\n",
    "age_demo_dict = {\"Ages\": age_labels,\n",
    "                 \"Percentage of Players\": age_bin_percentages,\n",
    "                 \"Total Count\": age_bin_counts\n",
    "                }\n",
    "\n",
    "age_demo_df = pd.DataFrame(age_demo_dict)\n",
    "\n",
    "# Set row index\n",
    "age_demo_df = age_demo_df.set_index(\"Ages\")\n",
    "\n",
    "# Configure dataframe column order and display\n",
    "age_demo_df = age_demo_df[[\"Percentage of Players\",\"Total Count\"]]\n",
    "\n",
    "age_demo_df"
   ]
  },
  {
   "cell_type": "markdown",
   "metadata": {},
   "source": [
    "# Purchasing Analysis (Age)"
   ]
  },
  {
   "cell_type": "code",
   "execution_count": 808,
   "metadata": {},
   "outputs": [],
   "source": [
    "# Count purchases by Age Group\n",
    "\n",
    "age_purchases_counts = grouped_age_df[\"Age Group\"].count()"
   ]
  },
  {
   "cell_type": "code",
   "execution_count": 809,
   "metadata": {},
   "outputs": [],
   "source": [
    "# Find Average Purchase Price by Age Group\n",
    "\n",
    "average_age_purchase = grouped_age_df[\"Price\"].mean()"
   ]
  },
  {
   "cell_type": "code",
   "execution_count": 810,
   "metadata": {},
   "outputs": [],
   "source": [
    "# Find Total Purchase Value (Revenue) by Age Group\n",
    "\n",
    "total_age_purchases = grouped_age_df[\"Price\"].sum()"
   ]
  },
  {
   "cell_type": "code",
   "execution_count": 811,
   "metadata": {},
   "outputs": [],
   "source": [
    "# Find Normalized Totals (Total Purchase Value / Unique Players by Age)\n",
    "\n",
    "normalized_age_purchases = [t/g for t,g in zip(total_age_purchases, age_bin_counts)]"
   ]
  },
  {
   "cell_type": "code",
   "execution_count": 812,
   "metadata": {},
   "outputs": [],
   "source": [
    "# Format appropriate calculated lists to currency\n",
    "\n",
    "average_age_purchase = [\"$%.2f\" % member for member in average_age_purchase]\n",
    "total_age_purchases = [\"$%.2f\" % member for member in total_age_purchases]\n",
    "normalized_age_purchases = [\"$%.2f\" % member for member in normalized_age_purchases]"
   ]
  },
  {
   "cell_type": "code",
   "execution_count": 813,
   "metadata": {},
   "outputs": [
    {
     "data": {
      "text/html": [
       "<div>\n",
       "<style>\n",
       "    .dataframe thead tr:only-child th {\n",
       "        text-align: right;\n",
       "    }\n",
       "\n",
       "    .dataframe thead th {\n",
       "        text-align: left;\n",
       "    }\n",
       "\n",
       "    .dataframe tbody tr th {\n",
       "        vertical-align: top;\n",
       "    }\n",
       "</style>\n",
       "<table border=\"1\" class=\"dataframe\">\n",
       "  <thead>\n",
       "    <tr style=\"text-align: right;\">\n",
       "      <th></th>\n",
       "      <th>Purchase Count</th>\n",
       "      <th>Average Purchase Price</th>\n",
       "      <th>Total Purchase Value</th>\n",
       "      <th>Normalized Totals</th>\n",
       "    </tr>\n",
       "    <tr>\n",
       "      <th>Age Group</th>\n",
       "      <th></th>\n",
       "      <th></th>\n",
       "      <th></th>\n",
       "      <th></th>\n",
       "    </tr>\n",
       "  </thead>\n",
       "  <tbody>\n",
       "    <tr>\n",
       "      <th>&lt;10</th>\n",
       "      <td>33</td>\n",
       "      <td>$2.95</td>\n",
       "      <td>$97.28</td>\n",
       "      <td>$4.05</td>\n",
       "    </tr>\n",
       "    <tr>\n",
       "      <th>10-14</th>\n",
       "      <td>38</td>\n",
       "      <td>$2.79</td>\n",
       "      <td>$105.91</td>\n",
       "      <td>$4.24</td>\n",
       "    </tr>\n",
       "    <tr>\n",
       "      <th>15-19</th>\n",
       "      <td>144</td>\n",
       "      <td>$2.89</td>\n",
       "      <td>$416.83</td>\n",
       "      <td>$3.79</td>\n",
       "    </tr>\n",
       "    <tr>\n",
       "      <th>20-24</th>\n",
       "      <td>372</td>\n",
       "      <td>$2.92</td>\n",
       "      <td>$1087.66</td>\n",
       "      <td>$3.84</td>\n",
       "    </tr>\n",
       "    <tr>\n",
       "      <th>25-29</th>\n",
       "      <td>134</td>\n",
       "      <td>$2.96</td>\n",
       "      <td>$396.44</td>\n",
       "      <td>$4.22</td>\n",
       "    </tr>\n",
       "    <tr>\n",
       "      <th>30-34</th>\n",
       "      <td>71</td>\n",
       "      <td>$2.97</td>\n",
       "      <td>$211.14</td>\n",
       "      <td>$3.98</td>\n",
       "    </tr>\n",
       "    <tr>\n",
       "      <th>35-39</th>\n",
       "      <td>48</td>\n",
       "      <td>$2.93</td>\n",
       "      <td>$140.77</td>\n",
       "      <td>$4.27</td>\n",
       "    </tr>\n",
       "    <tr>\n",
       "      <th>40+</th>\n",
       "      <td>18</td>\n",
       "      <td>$3.24</td>\n",
       "      <td>$58.40</td>\n",
       "      <td>$4.87</td>\n",
       "    </tr>\n",
       "  </tbody>\n",
       "</table>\n",
       "</div>"
      ],
      "text/plain": [
       "           Purchase Count Average Purchase Price Total Purchase Value  \\\n",
       "Age Group                                                               \n",
       "<10                    33                  $2.95               $97.28   \n",
       "10-14                  38                  $2.79              $105.91   \n",
       "15-19                 144                  $2.89              $416.83   \n",
       "20-24                 372                  $2.92             $1087.66   \n",
       "25-29                 134                  $2.96              $396.44   \n",
       "30-34                  71                  $2.97              $211.14   \n",
       "35-39                  48                  $2.93              $140.77   \n",
       "40+                    18                  $3.24               $58.40   \n",
       "\n",
       "          Normalized Totals  \n",
       "Age Group                    \n",
       "<10                   $4.05  \n",
       "10-14                 $4.24  \n",
       "15-19                 $3.79  \n",
       "20-24                 $3.84  \n",
       "25-29                 $4.22  \n",
       "30-34                 $3.98  \n",
       "35-39                 $4.27  \n",
       "40+                   $4.87  "
      ]
     },
     "execution_count": 813,
     "metadata": {},
     "output_type": "execute_result"
    }
   ],
   "source": [
    "# Create summary dictionary and populate dataframe\n",
    "\n",
    "age_purchases_dict = {\"Ages\": age_labels,\n",
    "                         \"Purchase Count\": age_purchases_counts,\n",
    "                         \"Average Purchase Price\": average_age_purchase,\n",
    "                         \"Total Purchase Value\": total_age_purchases,\n",
    "                         \"Normalized Totals\": normalized_age_purchases\n",
    "                        }\n",
    "\n",
    "age_purchases_df = pd.DataFrame(age_purchases_dict)\n",
    "\n",
    "# Configure dataframe column order and display\n",
    "\n",
    "age_purchases_df = age_purchases_df[[\"Purchase Count\",\n",
    "                                     \"Average Purchase Price\",\n",
    "                                     \"Total Purchase Value\",\n",
    "                                     \"Normalized Totals\"]]\n",
    "\n",
    "age_purchases_df"
   ]
  },
  {
   "cell_type": "markdown",
   "metadata": {},
   "source": [
    "# Top Spenders"
   ]
  },
  {
   "cell_type": "code",
   "execution_count": 847,
   "metadata": {},
   "outputs": [],
   "source": [
    "# Create new dataframe grouped by SN\n",
    "\n",
    "spender_df = combined_df.groupby(\"SN\")"
   ]
  },
  {
   "cell_type": "code",
   "execution_count": 848,
   "metadata": {},
   "outputs": [],
   "source": [
    "# Find total purchases by SN\n",
    "\n",
    "SN_total = spender_df.sum()[\"Price\"]"
   ]
  },
  {
   "cell_type": "code",
   "execution_count": 849,
   "metadata": {},
   "outputs": [],
   "source": [
    "# Find average purchase per SN\n",
    "\n",
    "average_SN_purchase = spender_df[\"Price\"].mean()"
   ]
  },
  {
   "cell_type": "code",
   "execution_count": 850,
   "metadata": {
    "collapsed": true
   },
   "outputs": [],
   "source": [
    "# Count number of purchases per SN\n",
    "\n",
    "SN_purchases_counts = spender_df[\"Price\"].count()"
   ]
  },
  {
   "cell_type": "code",
   "execution_count": 851,
   "metadata": {},
   "outputs": [
    {
     "data": {
      "text/html": [
       "<div>\n",
       "<style>\n",
       "    .dataframe thead tr:only-child th {\n",
       "        text-align: right;\n",
       "    }\n",
       "\n",
       "    .dataframe thead th {\n",
       "        text-align: left;\n",
       "    }\n",
       "\n",
       "    .dataframe tbody tr th {\n",
       "        vertical-align: top;\n",
       "    }\n",
       "</style>\n",
       "<table border=\"1\" class=\"dataframe\">\n",
       "  <thead>\n",
       "    <tr style=\"text-align: right;\">\n",
       "      <th></th>\n",
       "      <th>Purchase Count</th>\n",
       "      <th>Average Purchase Price</th>\n",
       "      <th>Total Purchase Value</th>\n",
       "    </tr>\n",
       "    <tr>\n",
       "      <th>SN</th>\n",
       "      <th></th>\n",
       "      <th></th>\n",
       "      <th></th>\n",
       "    </tr>\n",
       "  </thead>\n",
       "  <tbody>\n",
       "    <tr>\n",
       "      <th>Undirrala66</th>\n",
       "      <td>5</td>\n",
       "      <td>$3.41</td>\n",
       "      <td>$17.06</td>\n",
       "    </tr>\n",
       "    <tr>\n",
       "      <th>Aerithllora36</th>\n",
       "      <td>4</td>\n",
       "      <td>$3.77</td>\n",
       "      <td>$15.10</td>\n",
       "    </tr>\n",
       "    <tr>\n",
       "      <th>Saedue76</th>\n",
       "      <td>4</td>\n",
       "      <td>$3.39</td>\n",
       "      <td>$13.56</td>\n",
       "    </tr>\n",
       "    <tr>\n",
       "      <th>Sondim43</th>\n",
       "      <td>4</td>\n",
       "      <td>$3.25</td>\n",
       "      <td>$13.02</td>\n",
       "    </tr>\n",
       "    <tr>\n",
       "      <th>Mindimnya67</th>\n",
       "      <td>4</td>\n",
       "      <td>$3.18</td>\n",
       "      <td>$12.74</td>\n",
       "    </tr>\n",
       "  </tbody>\n",
       "</table>\n",
       "</div>"
      ],
      "text/plain": [
       "               Purchase Count Average Purchase Price Total Purchase Value\n",
       "SN                                                                       \n",
       "Undirrala66                 5                  $3.41               $17.06\n",
       "Aerithllora36               4                  $3.77               $15.10\n",
       "Saedue76                    4                  $3.39               $13.56\n",
       "Sondim43                    4                  $3.25               $13.02\n",
       "Mindimnya67                 4                  $3.18               $12.74"
      ]
     },
     "execution_count": 851,
     "metadata": {},
     "output_type": "execute_result"
    }
   ],
   "source": [
    "# Create summary dictionary and populate dataframe\n",
    "\n",
    "SN_purchases_dict = {\"Purchase Count\": SN_purchases_counts,\n",
    "                         \"Average Purchase Price\": average_SN_purchase,\n",
    "                         \"Total Purchase Value\": SN_total\n",
    "                        }\n",
    "\n",
    "SN_purchases_df = pd.DataFrame(SN_purchases_dict)\n",
    "\n",
    "# Configure dataframe column order and display\n",
    "SN_purchases_df = SN_purchases_df[[\"Purchase Count\",\n",
    "                                          \"Average Purchase Price\",\n",
    "                                          \"Total Purchase Value\"]]\n",
    "# Sort by descending purchase value\n",
    "SN_purchases_df = SN_purchases_df.sort_values(\"Total Purchase Value\", ascending=False)\n",
    "\n",
    "# Format to currency\n",
    "SN_purchases_df[\"Average Purchase Price\"] = SN_purchases_df[\"Average Purchase Price\"].map(\"${:,.2f}\".format)\n",
    "SN_purchases_df[\"Total Purchase Value\"] = SN_purchases_df[\"Total Purchase Value\"].map(\"${:,.2f}\".format)\n",
    "\n",
    "# Display top 5 spender SNs\n",
    "SN_purchases_df.head(5)"
   ]
  },
  {
   "cell_type": "markdown",
   "metadata": {},
   "source": [
    "# Most Popular Items"
   ]
  },
  {
   "cell_type": "code",
   "execution_count": 852,
   "metadata": {},
   "outputs": [],
   "source": [
    "# Collect item information\n",
    "\n",
    "item_info = combined_df.loc[:,[\"Item ID\", \"Item Name\", \"Price\"]]"
   ]
  },
  {
   "cell_type": "code",
   "execution_count": 853,
   "metadata": {
    "collapsed": true
   },
   "outputs": [],
   "source": [
    "# Calculate purchase count, item price, and total purchase value\n",
    "\n",
    "total_item_purchase = item_info.groupby([\"Item ID\", \"Item Name\"]).sum()[\"Price\"]\n",
    "average_item_purchase = item_info.groupby([\"Item ID\", \"Item Name\"]).mean()[\"Price\"]\n",
    "item_purchase_count = item_info.groupby([\"Item ID\", \"Item Name\"]).count()[\"Price\"]"
   ]
  },
  {
   "cell_type": "code",
   "execution_count": 854,
   "metadata": {},
   "outputs": [
    {
     "data": {
      "text/html": [
       "<div>\n",
       "<style>\n",
       "    .dataframe thead tr:only-child th {\n",
       "        text-align: right;\n",
       "    }\n",
       "\n",
       "    .dataframe thead th {\n",
       "        text-align: left;\n",
       "    }\n",
       "\n",
       "    .dataframe tbody tr th {\n",
       "        vertical-align: top;\n",
       "    }\n",
       "</style>\n",
       "<table border=\"1\" class=\"dataframe\">\n",
       "  <thead>\n",
       "    <tr style=\"text-align: right;\">\n",
       "      <th></th>\n",
       "      <th></th>\n",
       "      <th>Purchase Count</th>\n",
       "      <th>Item Price</th>\n",
       "      <th>Total Purchase Value</th>\n",
       "    </tr>\n",
       "    <tr>\n",
       "      <th>Item ID</th>\n",
       "      <th>Item Name</th>\n",
       "      <th></th>\n",
       "      <th></th>\n",
       "      <th></th>\n",
       "    </tr>\n",
       "  </thead>\n",
       "  <tbody>\n",
       "    <tr>\n",
       "      <th>84</th>\n",
       "      <th>Arcane Gem</th>\n",
       "      <td>12</td>\n",
       "      <td>$2.45</td>\n",
       "      <td>$29.34</td>\n",
       "    </tr>\n",
       "    <tr>\n",
       "      <th>39</th>\n",
       "      <th>Betrayal, Whisper of Grieving Widows</th>\n",
       "      <td>11</td>\n",
       "      <td>$2.35</td>\n",
       "      <td>$25.85</td>\n",
       "    </tr>\n",
       "    <tr>\n",
       "      <th>31</th>\n",
       "      <th>Trickster</th>\n",
       "      <td>10</td>\n",
       "      <td>$2.32</td>\n",
       "      <td>$23.22</td>\n",
       "    </tr>\n",
       "    <tr>\n",
       "      <th>44</th>\n",
       "      <th>Bonecarvin Battle Axe</th>\n",
       "      <td>9</td>\n",
       "      <td>$2.67</td>\n",
       "      <td>$24.04</td>\n",
       "    </tr>\n",
       "    <tr>\n",
       "      <th>154</th>\n",
       "      <th>Feral Katana</th>\n",
       "      <td>9</td>\n",
       "      <td>$2.62</td>\n",
       "      <td>$23.55</td>\n",
       "    </tr>\n",
       "  </tbody>\n",
       "</table>\n",
       "</div>"
      ],
      "text/plain": [
       "                                              Purchase Count Item Price  \\\n",
       "Item ID Item Name                                                         \n",
       "84      Arcane Gem                                        12      $2.45   \n",
       "39      Betrayal, Whisper of Grieving Widows              11      $2.35   \n",
       "31      Trickster                                         10      $2.32   \n",
       "44      Bonecarvin Battle Axe                              9      $2.67   \n",
       "154     Feral Katana                                       9      $2.62   \n",
       "\n",
       "                                             Total Purchase Value  \n",
       "Item ID Item Name                                                  \n",
       "84      Arcane Gem                                         $29.34  \n",
       "39      Betrayal, Whisper of Grieving Widows               $25.85  \n",
       "31      Trickster                                          $23.22  \n",
       "44      Bonecarvin Battle Axe                              $24.04  \n",
       "154     Feral Katana                                       $23.55  "
      ]
     },
     "execution_count": 854,
     "metadata": {},
     "output_type": "execute_result"
    }
   ],
   "source": [
    "# Format to currency\n",
    "\n",
    "formatted_average_item_purchase = [\"$%.2f\" % member for member in average_item_purchase]\n",
    "formatted_total_item_purchase = [\"$%.2f\" % member for member in total_item_purchase]\n",
    "\n",
    "# Create dataframe\n",
    "\n",
    "item_purchases_df = pd.DataFrame({\"Purchase Count\": item_purchase_count,\n",
    "                                 \"Item Price\": formatted_average_item_purchase,\n",
    "                                 \"Total Purchase Value\": formatted_total_item_purchase})\n",
    "\n",
    "# Configure dataframe column order\n",
    "item_purchases_df = item_purchases_df[[\"Purchase Count\",\n",
    "                                          \"Item Price\",\n",
    "                                          \"Total Purchase Value\"]]\n",
    "\n",
    "# Display top 5 items as measured by count\n",
    "item_purchases_df.sort_values(\"Purchase Count\", ascending=False).head(5)"
   ]
  },
  {
   "cell_type": "markdown",
   "metadata": {},
   "source": [
    "# Most Profitable Items"
   ]
  },
  {
   "cell_type": "code",
   "execution_count": 855,
   "metadata": {},
   "outputs": [],
   "source": [
    "# Collect item information\n",
    "\n",
    "item_info = combined_df.loc[:,[\"Item ID\", \"Item Name\", \"Price\"]]\n",
    "\n",
    "# Calculate purchase count, item price, and total purchase value\n",
    "\n",
    "total_item_purchase = item_info.groupby([\"Item ID\", \"Item Name\"]).sum()[\"Price\"]\n",
    "average_item_purchase = item_info.groupby([\"Item ID\", \"Item Name\"]).mean()[\"Price\"]\n",
    "item_purchase_count = item_info.groupby([\"Item ID\", \"Item Name\"]).count()[\"Price\"]\n"
   ]
  },
  {
   "cell_type": "code",
   "execution_count": 856,
   "metadata": {},
   "outputs": [
    {
     "data": {
      "text/html": [
       "<div>\n",
       "<style>\n",
       "    .dataframe thead tr:only-child th {\n",
       "        text-align: right;\n",
       "    }\n",
       "\n",
       "    .dataframe thead th {\n",
       "        text-align: left;\n",
       "    }\n",
       "\n",
       "    .dataframe tbody tr th {\n",
       "        vertical-align: top;\n",
       "    }\n",
       "</style>\n",
       "<table border=\"1\" class=\"dataframe\">\n",
       "  <thead>\n",
       "    <tr style=\"text-align: right;\">\n",
       "      <th></th>\n",
       "      <th></th>\n",
       "      <th>Purchase Count</th>\n",
       "      <th>Item Price</th>\n",
       "      <th>Total Purchase Value</th>\n",
       "    </tr>\n",
       "    <tr>\n",
       "      <th>Item ID</th>\n",
       "      <th>Item Name</th>\n",
       "      <th></th>\n",
       "      <th></th>\n",
       "      <th></th>\n",
       "    </tr>\n",
       "  </thead>\n",
       "  <tbody>\n",
       "    <tr>\n",
       "      <th>34</th>\n",
       "      <th>Retribution Axe</th>\n",
       "      <td>9</td>\n",
       "      <td>$4.14</td>\n",
       "      <td>$37.26</td>\n",
       "    </tr>\n",
       "    <tr>\n",
       "      <th>107</th>\n",
       "      <th>Splitter, Foe Of Subtlety</th>\n",
       "      <td>9</td>\n",
       "      <td>$3.67</td>\n",
       "      <td>$33.03</td>\n",
       "    </tr>\n",
       "    <tr>\n",
       "      <th>115</th>\n",
       "      <th>Spectral Diamond Doomblade</th>\n",
       "      <td>7</td>\n",
       "      <td>$4.25</td>\n",
       "      <td>$29.75</td>\n",
       "    </tr>\n",
       "    <tr>\n",
       "      <th>32</th>\n",
       "      <th>Orenmir</th>\n",
       "      <td>6</td>\n",
       "      <td>$4.95</td>\n",
       "      <td>$29.70</td>\n",
       "    </tr>\n",
       "    <tr>\n",
       "      <th>84</th>\n",
       "      <th>Arcane Gem</th>\n",
       "      <td>12</td>\n",
       "      <td>$2.45</td>\n",
       "      <td>$29.34</td>\n",
       "    </tr>\n",
       "  </tbody>\n",
       "</table>\n",
       "</div>"
      ],
      "text/plain": [
       "                                    Purchase Count Item Price  \\\n",
       "Item ID Item Name                                               \n",
       "34      Retribution Axe                          9      $4.14   \n",
       "107     Splitter, Foe Of Subtlety                9      $3.67   \n",
       "115     Spectral Diamond Doomblade               7      $4.25   \n",
       "32      Orenmir                                  6      $4.95   \n",
       "84      Arcane Gem                              12      $2.45   \n",
       "\n",
       "                                   Total Purchase Value  \n",
       "Item ID Item Name                                        \n",
       "34      Retribution Axe                          $37.26  \n",
       "107     Splitter, Foe Of Subtlety                $33.03  \n",
       "115     Spectral Diamond Doomblade               $29.75  \n",
       "32      Orenmir                                  $29.70  \n",
       "84      Arcane Gem                               $29.34  "
      ]
     },
     "execution_count": 856,
     "metadata": {},
     "output_type": "execute_result"
    }
   ],
   "source": [
    "# Create dataframe\n",
    "\n",
    "item_purchases_df = pd.DataFrame({\"Purchase Count\": item_purchase_count,\n",
    "                                 \"Item Price\": average_item_purchase,\n",
    "                                 \"Total Purchase Value\": total_item_purchase})\n",
    "\n",
    "# Configure dataframe column order and display\n",
    "item_purchases_df = item_purchases_df[[\"Purchase Count\",\n",
    "                                          \"Item Price\",\n",
    "                                          \"Total Purchase Value\"]]\n",
    "\n",
    "item_purchases_df = item_purchases_df.sort_values(\"Total Purchase Value\", ascending=False)\n",
    "\n",
    "\n",
    "# Format to currency\n",
    "item_purchases_df[\"Item Price\"] = item_purchases_df[\"Item Price\"].map(\"${:,.2f}\".format)\n",
    "item_purchases_df[\"Total Purchase Value\"] = item_purchases_df[\"Total Purchase Value\"].map(\"${:,.2f}\".format)\n",
    "\n",
    "# Display top 5 items by revenue\n",
    "item_purchases_df.head(5)"
   ]
  }
 ],
 "metadata": {
  "kernelspec": {
   "display_name": "Python 3",
   "language": "python",
   "name": "python3"
  },
  "language_info": {
   "codemirror_mode": {
    "name": "ipython",
    "version": 3
   },
   "file_extension": ".py",
   "mimetype": "text/x-python",
   "name": "python",
   "nbconvert_exporter": "python",
   "pygments_lexer": "ipython3",
   "version": "3.6.2"
  }
 },
 "nbformat": 4,
 "nbformat_minor": 2
}
